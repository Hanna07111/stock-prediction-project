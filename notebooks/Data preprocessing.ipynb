{
  "nbformat": 4,
  "nbformat_minor": 0,
  "metadata": {
    "colab": {
      "provenance": [],
      "mount_file_id": "1KvjeMgJZoEtmoW1NziIuflCs6Q7Pxdva",
      "authorship_tag": "ABX9TyPoRhUdmmiFpL3Ph9dhku5Z",
      "include_colab_link": true
    },
    "kernelspec": {
      "name": "python3",
      "display_name": "Python 3"
    },
    "language_info": {
      "name": "python"
    }
  },
  "cells": [
    {
      "cell_type": "markdown",
      "metadata": {
        "id": "view-in-github",
        "colab_type": "text"
      },
      "source": [
        "<a href=\"https://colab.research.google.com/github/Hanna07111/stock-prediction-project/blob/main/Data%20preprocessing.ipynb\" target=\"_parent\"><img src=\"https://colab.research.google.com/assets/colab-badge.svg\" alt=\"Open In Colab\"/></a>"
      ]
    },
    {
      "cell_type": "code",
      "execution_count": null,
      "metadata": {
        "id": "wj4_7QIKijLm"
      },
      "outputs": [],
      "source": [
        "#2018년 나스닥 100 종가 데이터\n",
        "import yfinance as yf\n",
        "import pandas as pd\n",
        "\n",
        "# 나스닥 100 종목 리스트 (2018년 기준)\n",
        "nasdaq_100_tickers_2018 = [\n",
        "    \"AAPL\", \"MSFT\", \"AMZN\", \"FB\", \"GOOG\", \"GOOGL\", \"TSLA\", \"NVDA\", \"PYPL\", \"NFLX\",\n",
        "    \"ADBE\", \"AMD\", \"ALGN\", \"ALXN\", \"AMGN\", \"ANSS\", \"ASML\", \"ATVI\", \"AVGO\", \"BIDU\",\n",
        "    \"BKNG\", \"CDNS\", \"CDW\", \"CERN\", \"CHKP\", \"CHTR\", \"CMCSA\", \"COST\", \"CPRT\", \"CSCO\",\n",
        "    \"CSX\", \"CTAS\", \"CTSH\", \"DLTR\", \"DOCU\", \"DXCM\", \"EA\", \"EBAY\", \"EXC\", \"FAST\",\n",
        "    \"FISV\", \"FOX\", \"FOXA\", \"GILD\", \"IDXX\", \"ILMN\", \"INCY\", \"INTC\", \"INTU\",\n",
        "    \"ISRG\", \"JD\", \"KDP\", \"KHC\", \"KLAC\", \"LRCX\", \"LULU\", \"MAR\", \"MCHP\", \"MDLZ\",\n",
        "    \"MELI\", \"MNST\", \"MRNA\", \"MRVL\", \"MSFT\", \"MU\", \"MXIM\", \"NFLX\", \"NTES\", \"NVDA\",\n",
        "    \"NXPI\", \"ORLY\", \"PAYX\", \"PCAR\", \"PDD\", \"PEP\", \"PYPL\", \"QCOM\", \"REGN\", \"ROST\",\n",
        "    \"SBUX\", \"SGEN\", \"SIRI\", \"SNPS\", \"SPLK\", \"SWKS\", \"TCOM\", \"TEAM\", \"TMUS\", \"TSLA\",\n",
        "    \"TXN\", \"VRSN\", \"VRTX\", \"WBA\", \"WDC\", \"WDAY\", \"XEL\", \"XLNX\", \"ZM\", \"ZS\"\n",
        "]\n",
        "\n",
        "# 시작 날짜와 종료 날짜 설정\n",
        "start_date = \"2018-03-31\"\n",
        "end_date = \"2018-12-31\"\n",
        "\n",
        "# 각 주식의 데이터 가져오기\n",
        "data = {}\n",
        "for ticker in nasdaq_100_tickers_2018:\n",
        "    try:\n",
        "        stock = yf.Ticker(ticker)\n",
        "        stock_data = stock.history(start=start_date, end=end_date)\n",
        "        data[ticker] = stock_data['Close']\n",
        "    except Exception as e:\n",
        "        print(f\"Error fetching data for {ticker}: {e}\")\n",
        "\n",
        "# 데이터프레임으로 변환\n",
        "nasdaq_100_close_prices_2018 = pd.DataFrame(data)\n",
        "nasdaq_100_close_prices_2018.index.name = \"Date\"\n",
        "\n",
        "# 데이터프레임 CSV 파일로 저장\n",
        "nasdaq_100_close_prices_2018.to_csv('nasdaq_100_close_prices_2018.csv')\n",
        "\n",
        "# 데이터프레임 출력\n",
        "print(nasdaq_100_close_prices_2018)"
      ]
    },
    {
      "cell_type": "code",
      "source": [
        "#2018\n",
        "import yfinance as yf\n",
        "import pandas as pd\n",
        "\n",
        "# 나스닥 100 종목 리스트 (2018년 기준)\n",
        "nasdaq_100_tickers_2018 = [\n",
        "    \"AAPL\", \"MSFT\", \"AMZN\", \"META\", \"GOOG\", \"GOOGL\", \"TSLA\", \"NVDA\", \"PYPL\", \"NFLX\",\n",
        "    \"ADBE\", \"AMD\", \"ALGN\", \"ALXN\", \"AMGN\", \"ANSS\", \"ASML\", \"ATVI\", \"AVGO\", \"BIDU\",\n",
        "    \"BKNG\", \"CDNS\", \"CDW\", \"CERN\", \"CHKP\", \"CHTR\", \"CMCSA\", \"COST\", \"CPRT\", \"CSCO\",\n",
        "    \"CSX\", \"CTAS\", \"CTSH\", \"DLTR\", \"DOCU\", \"DXCM\", \"EA\", \"EBAY\", \"EXC\", \"FAST\",\n",
        "    \"FISV\", \"FOX\", \"FOXA\", \"GILD\", \"IDXX\", \"ILMN\", \"INCY\", \"INTC\", \"INTU\",\n",
        "    \"ISRG\", \"JD\", \"KDP\", \"KHC\", \"KLAC\", \"LRCX\", \"LULU\", \"MAR\", \"MCHP\", \"MDLZ\",\n",
        "    \"MELI\", \"MNST\", \"MRNA\", \"MRVL\", \"MSFT\", \"MU\", \"MXIM\", \"NFLX\", \"NTES\", \"NVDA\",\n",
        "    \"NXPI\", \"ORLY\", \"PAYX\", \"PCAR\", \"PDD\", \"PEP\", \"PYPL\", \"QCOM\", \"REGN\", \"ROST\",\n",
        "    \"SBUX\", \"SGEN\", \"SIRI\", \"SNPS\", \"SPLK\", \"SWKS\", \"TCOM\", \"TEAM\", \"TMUS\", \"TSLA\",\n",
        "    \"TXN\", \"VRSN\", \"VRTX\", \"WBA\", \"WDC\", \"WDAY\", \"XEL\", \"XLNX\", \"ZM\", \"ZS\"\n",
        "]\n",
        "\n",
        "# 시작 날짜와 종료 날짜 설정\n",
        "start_date = \"2018-03-31\"\n",
        "end_date = \"2018-12-31\"\n",
        "\n",
        "# 각 주식의 데이터 가져오기\n",
        "data = {}\n",
        "for ticker in nasdaq_100_tickers_2018:\n",
        "    try:\n",
        "        stock = yf.Ticker(ticker)\n",
        "        stock_data = stock.history(start=start_date, end=end_date)\n",
        "        if stock_data.empty:\n",
        "            raise ValueError(f\"No data for {ticker}\")\n",
        "        data[ticker] = stock_data['Close']\n",
        "    except Exception as e:\n",
        "        print(f\"Error fetching data for {ticker}: {e}\")\n",
        "\n",
        "# 데이터프레임으로 변환\n",
        "nasdaq_100_close_prices_2018 = pd.DataFrame(data)\n",
        "nasdaq_100_close_prices_2018.index.name = \"Date\"\n",
        "\n",
        "# 데이터프레임 CSV 파일로 저장\n",
        "nasdaq_100_close_prices_2018.to_csv('nasdaq_100_close_prices_2018.csv')\n",
        "\n",
        "# 데이터프레임 출력\n",
        "print(nasdaq_100_close_prices_2018)"
      ],
      "metadata": {
        "id": "M9OzmgiuBp-f"
      },
      "execution_count": null,
      "outputs": []
    },
    {
      "cell_type": "code",
      "source": [
        "#2018년 4\n",
        "import yfinance as yf\n",
        "import pandas as pd\n",
        "\n",
        "# 2018년 4월 기준 나스닥 100 종목 리스트\n",
        "nasdaq_100_tickers_2018_april = [\n",
        "    \"AAPL\", \"MSFT\", \"AMZN\", \"FB\", \"GOOG\", \"GOOGL\", \"TSLA\", \"NVDA\", \"PYPL\", \"NFLX\",\n",
        "    \"ADBE\", \"AMD\", \"ALGN\", \"ALXN\", \"AMGN\", \"ANSS\", \"ASML\", \"ATVI\", \"AVGO\", \"BIDU\",\n",
        "    \"BKNG\", \"CDNS\", \"CDW\", \"CERN\", \"CHKP\", \"CHTR\", \"CMCSA\", \"COST\", \"CPRT\", \"CSCO\",\n",
        "    \"CSX\", \"CTAS\", \"CTSH\", \"DLTR\", \"DOCU\", \"DXCM\", \"EA\", \"EBAY\", \"EXC\", \"FAST\",\n",
        "    \"FISV\", \"FOX\", \"FOXA\", \"GILD\", \"IDXX\", \"ILMN\", \"INCY\", \"INTC\", \"INTU\",\n",
        "    \"ISRG\", \"JD\", \"KDP\", \"KHC\", \"KLAC\", \"LRCX\", \"LULU\", \"MAR\", \"MCHP\", \"MDLZ\",\n",
        "    \"MELI\", \"MNST\", \"MRNA\", \"MRVL\", \"MU\", \"MXIM\", \"NTES\", \"NXPI\",\n",
        "    \"ORLY\", \"PAYX\", \"PCAR\", \"PDD\", \"PEP\", \"QCOM\", \"REGN\", \"ROST\",\n",
        "    \"SBUX\", \"SGEN\", \"SIRI\", \"SNPS\", \"SPLK\", \"SWKS\", \"TCOM\", \"TEAM\", \"TMUS\", \"TXN\",\n",
        "    \"VRSN\", \"VRTX\", \"WBA\", \"WDC\", \"WDAY\", \"XEL\", \"XLNX\", \"ZM\", \"ZS\"\n",
        "]\n",
        "\n",
        "# 시작 날짜와 종료 날짜 설정\n",
        "start_date = \"2018-04-01\"\n",
        "end_date = \"2018-04-30\"\n",
        "\n",
        "# 각 주식의 데이터 가져오기\n",
        "data = {}\n",
        "for ticker in nasdaq_100_tickers_2018_april:\n",
        "    try:\n",
        "        stock = yf.Ticker(ticker)\n",
        "        stock_data = stock.history(start=start_date, end=end_date)\n",
        "        if stock_data.empty:\n",
        "            raise ValueError(f\"No data for {ticker}\")\n",
        "        data[ticker] = stock_data['Close']\n",
        "    except Exception as e:\n",
        "        print(f\"Error fetching data for {ticker}: {e}\")\n",
        "\n",
        "# 데이터프레임으로 변환\n",
        "nasdaq_100_close_prices_april_2018 = pd.DataFrame(data)\n",
        "nasdaq_100_close_prices_april_2018.index.name = \"Date\"\n",
        "\n",
        "# 데이터프레임 CSV 파일로 저장\n",
        "nasdaq_100_close_prices_april_2018.to_csv('nasdaq_100_close_prices_april_2018.csv')\n",
        "\n",
        "# 데이터프레임 출력\n",
        "print(nasdaq_100_close_prices_april_2018)"
      ],
      "metadata": {
        "colab": {
          "base_uri": "https://localhost:8080/"
        },
        "id": "ur98RTRqGJOl",
        "outputId": "8765c67d-bce9-4718-81cf-a6c12ffbd53b"
      },
      "execution_count": null,
      "outputs": [
        {
          "output_type": "stream",
          "name": "stderr",
          "text": [
            "ERROR:yfinance:$FB: possibly delisted; No timezone found\n"
          ]
        },
        {
          "output_type": "stream",
          "name": "stdout",
          "text": [
            "Error fetching data for FB: No data for FB\n"
          ]
        },
        {
          "output_type": "stream",
          "name": "stderr",
          "text": [
            "ERROR:yfinance:$ALXN: possibly delisted; No timezone found\n"
          ]
        },
        {
          "output_type": "stream",
          "name": "stdout",
          "text": [
            "Error fetching data for ALXN: No data for ALXN\n"
          ]
        },
        {
          "output_type": "stream",
          "name": "stderr",
          "text": [
            "ERROR:yfinance:$ATVI: possibly delisted; No timezone found\n"
          ]
        },
        {
          "output_type": "stream",
          "name": "stdout",
          "text": [
            "Error fetching data for ATVI: No data for ATVI\n"
          ]
        },
        {
          "output_type": "stream",
          "name": "stderr",
          "text": [
            "ERROR:yfinance:$CERN: possibly delisted; No timezone found\n"
          ]
        },
        {
          "output_type": "stream",
          "name": "stdout",
          "text": [
            "Error fetching data for CERN: No data for CERN\n"
          ]
        },
        {
          "output_type": "stream",
          "name": "stderr",
          "text": [
            "ERROR:yfinance:FISV: Data doesn't exist for startDate = 1522555200, endDate = 1525060800\n"
          ]
        },
        {
          "output_type": "stream",
          "name": "stdout",
          "text": [
            "Error fetching data for FISV: No data for FISV\n"
          ]
        },
        {
          "output_type": "stream",
          "name": "stderr",
          "text": [
            "ERROR:yfinance:FOX: Data doesn't exist for startDate = 1522555200, endDate = 1525060800\n"
          ]
        },
        {
          "output_type": "stream",
          "name": "stdout",
          "text": [
            "Error fetching data for FOX: No data for FOX\n"
          ]
        },
        {
          "output_type": "stream",
          "name": "stderr",
          "text": [
            "ERROR:yfinance:FOXA: Data doesn't exist for startDate = 1522555200, endDate = 1525060800\n"
          ]
        },
        {
          "output_type": "stream",
          "name": "stdout",
          "text": [
            "Error fetching data for FOXA: No data for FOXA\n"
          ]
        },
        {
          "output_type": "stream",
          "name": "stderr",
          "text": [
            "ERROR:yfinance:MRNA: Data doesn't exist for startDate = 1522555200, endDate = 1525060800\n"
          ]
        },
        {
          "output_type": "stream",
          "name": "stdout",
          "text": [
            "Error fetching data for MRNA: No data for MRNA\n"
          ]
        },
        {
          "output_type": "stream",
          "name": "stderr",
          "text": [
            "ERROR:yfinance:$MXIM: possibly delisted; No timezone found\n"
          ]
        },
        {
          "output_type": "stream",
          "name": "stdout",
          "text": [
            "Error fetching data for MXIM: No data for MXIM\n"
          ]
        },
        {
          "output_type": "stream",
          "name": "stderr",
          "text": [
            "ERROR:yfinance:PDD: Data doesn't exist for startDate = 1522555200, endDate = 1525060800\n"
          ]
        },
        {
          "output_type": "stream",
          "name": "stdout",
          "text": [
            "Error fetching data for PDD: No data for PDD\n"
          ]
        },
        {
          "output_type": "stream",
          "name": "stderr",
          "text": [
            "ERROR:yfinance:$SGEN: possibly delisted; No timezone found\n"
          ]
        },
        {
          "output_type": "stream",
          "name": "stdout",
          "text": [
            "Error fetching data for SGEN: No data for SGEN\n"
          ]
        },
        {
          "output_type": "stream",
          "name": "stderr",
          "text": [
            "ERROR:yfinance:$SPLK: possibly delisted; No timezone found\n"
          ]
        },
        {
          "output_type": "stream",
          "name": "stdout",
          "text": [
            "Error fetching data for SPLK: No data for SPLK\n"
          ]
        },
        {
          "output_type": "stream",
          "name": "stderr",
          "text": [
            "ERROR:yfinance:$XLNX: possibly delisted; No timezone found\n"
          ]
        },
        {
          "output_type": "stream",
          "name": "stdout",
          "text": [
            "Error fetching data for XLNX: No data for XLNX\n"
          ]
        },
        {
          "output_type": "stream",
          "name": "stderr",
          "text": [
            "ERROR:yfinance:ZM: Data doesn't exist for startDate = 1522555200, endDate = 1525060800\n"
          ]
        },
        {
          "output_type": "stream",
          "name": "stdout",
          "text": [
            "Error fetching data for ZM: No data for ZM\n",
            "                                AAPL       MSFT       AMZN       GOOG  \\\n",
            "Date                                                                    \n",
            "2018-04-02 00:00:00-04:00  39.460449  82.713661  68.599503  50.266300   \n",
            "2018-04-03 00:00:00-04:00  39.865288  83.825607  69.602501  50.612907   \n",
            "2018-04-04 00:00:00-04:00  40.627602  86.273743  70.528503  51.198738   \n",
            "2018-04-05 00:00:00-04:00  40.909325  86.320457  72.587502  51.332085   \n",
            "2018-04-06 00:00:00-04:00  39.862923  84.311478  70.261497  50.294769   \n",
            "2018-04-09 00:00:00-04:00  40.258278  84.816078  70.304001  50.714787   \n",
            "2018-04-10 00:00:00-04:00  41.015862  86.787666  71.810997  51.523369   \n",
            "2018-04-11 00:00:00-04:00  40.824100  85.834564  71.352501  50.940533   \n",
            "2018-04-12 00:00:00-04:00  41.226562  87.441750  72.425003  51.566818   \n",
            "2018-04-13 00:00:00-04:00  41.366241  86.974556  71.539497  51.405003   \n",
            "2018-04-16 00:00:00-04:00  41.624290  87.993050  72.074997  51.840008   \n",
            "2018-04-17 00:00:00-04:00  42.197220  89.768440  75.191498  53.646954   \n",
            "2018-04-18 00:00:00-04:00  42.102512  90.114166  76.391998  53.543072   \n",
            "2018-04-19 00:00:00-04:00  40.909325  89.805794  77.845497  54.323181   \n",
            "2018-04-20 00:00:00-04:00  39.233177  88.768593  76.374496  53.587021   \n",
            "2018-04-23 00:00:00-04:00  39.119556  89.095657  75.892998  53.311836   \n",
            "2018-04-24 00:00:00-04:00  38.575035  87.011925  73.004501  50.941032   \n",
            "2018-04-25 00:00:00-04:00  38.743118  86.255058  73.008499  51.000961   \n",
            "2018-04-26 00:00:00-04:00  38.878063  88.077148  75.898003  51.942890   \n",
            "2018-04-27 00:00:00-04:00  38.428249  89.534821  78.630997  51.443958   \n",
            "\n",
            "                               GOOGL       TSLA      NVDA       PYPL  \\\n",
            "Date                                                                   \n",
            "2018-04-02 00:00:00-04:00  50.573456  16.832001  5.470759  75.000000   \n",
            "2018-04-03 00:00:00-04:00  50.875610  17.835333  5.577179  74.559998   \n",
            "2018-04-04 00:00:00-04:00  51.426479  19.129333  5.599207  74.779999   \n",
            "2018-04-05 00:00:00-04:00  51.572811  20.381332  5.478927  76.949997   \n",
            "2018-04-06 00:00:00-04:00  50.439613  19.953333  5.302467  73.860001   \n",
            "2018-04-09 00:00:00-04:00  50.946030  19.310667  5.331175  75.190002   \n",
            "2018-04-10 00:00:00-04:00  51.765591  20.313334  5.640537  76.790001   \n",
            "2018-04-11 00:00:00-04:00  51.194244  20.062000  5.599207  76.500000   \n",
            "2018-04-12 00:00:00-04:00  51.805042  19.605333  5.806107  77.459999   \n",
            "2018-04-13 00:00:00-04:00  51.742615  20.022667  5.729386  77.269997   \n",
            "2018-04-16 00:00:00-04:00  52.245041  19.414000  5.729138  77.800003   \n",
            "2018-04-17 00:00:00-04:00  53.906132  19.179333  5.878870  80.029999   \n",
            "2018-04-18 00:00:00-04:00  53.707859  19.556667  5.849913  80.339996   \n",
            "2018-04-19 00:00:00-04:00  54.410053  20.005333  5.668503  79.680000   \n",
            "2018-04-20 00:00:00-04:00  53.804249  19.349333  5.660337  78.730003   \n",
            "2018-04-23 00:00:00-04:00  53.628948  18.891333  5.540799  78.209999   \n",
            "2018-04-24 00:00:00-04:00  51.073383  18.897333  5.474472  75.279999   \n",
            "2018-04-25 00:00:00-04:00  51.090866  18.712667  5.362111  74.000000   \n",
            "2018-04-26 00:00:00-04:00  52.105698  19.032000  5.573961  76.029999   \n",
            "2018-04-27 00:00:00-04:00  51.513378  19.605333  5.601434  74.129997   \n",
            "\n",
            "                                 NFLX        ADBE  ...       TEAM       TMUS  \\\n",
            "Date                                               ...                         \n",
            "2018-04-02 00:00:00-04:00  280.290009  212.279999  ...  53.779999  58.900169   \n",
            "2018-04-03 00:00:00-04:00  283.670013  215.929993  ...  53.209999  58.870533   \n",
            "2018-04-04 00:00:00-04:00  288.940002  225.050003  ...  56.110001  59.028603   \n",
            "2018-04-05 00:00:00-04:00  293.970001  223.539993  ...  55.970001  59.087875   \n",
            "2018-04-06 00:00:00-04:00  288.850006  218.610001  ...  54.590000  58.929810   \n",
            "2018-04-09 00:00:00-04:00  289.929993  219.169998  ...  55.900002  59.018723   \n",
            "2018-04-10 00:00:00-04:00  298.070007  224.529999  ...  56.990002  62.367790   \n",
            "2018-04-11 00:00:00-04:00  303.670013  223.630005  ...  58.660000  62.160328   \n",
            "2018-04-12 00:00:00-04:00  309.250000  226.960007  ...  60.639999  62.259121   \n",
            "2018-04-13 00:00:00-04:00  311.649994  224.059998  ...  60.250000  61.202038   \n",
            "2018-04-16 00:00:00-04:00  307.779999  226.520004  ...  60.680000  61.992382   \n",
            "2018-04-17 00:00:00-04:00  336.059998  231.160004  ...  62.060001  62.259121   \n",
            "2018-04-18 00:00:00-04:00  334.519989  231.100006  ...  62.070000  62.140572   \n",
            "2018-04-19 00:00:00-04:00  332.700012  227.619995  ...  62.270000  62.486347   \n",
            "2018-04-20 00:00:00-04:00  327.769989  225.240005  ...  58.205002  62.328278   \n",
            "2018-04-23 00:00:00-04:00  318.690002  225.300003  ...  58.980000  61.537937   \n",
            "2018-04-24 00:00:00-04:00  307.019989  217.889999  ...  57.209999  61.824432   \n",
            "2018-04-25 00:00:00-04:00  305.760010  217.320007  ...  55.169998  63.158134   \n",
            "2018-04-26 00:00:00-04:00  313.980011  221.910004  ...  56.040001  63.326080   \n",
            "2018-04-27 00:00:00-04:00  311.760010  221.899994  ...  55.419998  63.741005   \n",
            "\n",
            "                                 TXN        VRSN        VRTX        WBA  \\\n",
            "Date                                                                      \n",
            "2018-04-02 00:00:00-04:00  84.590332  115.739998  156.309998  48.198452   \n",
            "2018-04-03 00:00:00-04:00  85.876213  117.150002  158.360001  48.251923   \n",
            "2018-04-04 00:00:00-04:00  87.582283  117.839996  162.119995  50.039318   \n",
            "2018-04-05 00:00:00-04:00  85.926620  119.220001  157.660004  49.382404   \n",
            "2018-04-06 00:00:00-04:00  83.590218  117.690002  154.250000  48.481071   \n",
            "2018-04-09 00:00:00-04:00  83.884354  118.300003  156.759995  48.007492   \n",
            "2018-04-10 00:00:00-04:00  86.027466  120.529999  161.169998  48.702595   \n",
            "2018-04-11 00:00:00-04:00  86.010666  120.389999  158.889999  48.969944   \n",
            "2018-04-12 00:00:00-04:00  87.607506  121.709999  161.979996  48.916466   \n",
            "2018-04-13 00:00:00-04:00  85.859390  122.000000  161.389999  48.748421   \n",
            "2018-04-16 00:00:00-04:00  86.985588  123.790001  158.699997  50.581638   \n",
            "2018-04-17 00:00:00-04:00  88.573997  125.760002  164.990005  50.390678   \n",
            "2018-04-18 00:00:00-04:00  88.540405  126.639999  163.360001  50.612194   \n",
            "2018-04-19 00:00:00-04:00  85.128197  125.190002  159.550003  49.863621   \n",
            "2018-04-20 00:00:00-04:00  84.010422  124.790001  158.149994  48.824795   \n",
            "2018-04-23 00:00:00-04:00  82.438797  123.879997  158.690002  49.344219   \n",
            "2018-04-24 00:00:00-04:00  82.716156  118.000000  155.669998  49.649750   \n",
            "2018-04-25 00:00:00-04:00  86.565376  118.610001  155.149994  50.375408   \n",
            "2018-04-26 00:00:00-04:00  86.330032  120.900002  158.809998  50.978848   \n",
            "2018-04-27 00:00:00-04:00  86.153542  118.300003  156.050003  51.261463   \n",
            "\n",
            "                                 WDC        WDAY        XEL         ZS  \n",
            "Date                                                                    \n",
            "2018-04-02 00:00:00-04:00  82.997833  125.239998  37.281849  27.059999  \n",
            "2018-04-03 00:00:00-04:00  84.123032  125.010002  37.489197  26.799999  \n",
            "2018-04-04 00:00:00-04:00  85.322029  126.040001  37.497486  27.969999  \n",
            "2018-04-05 00:00:00-04:00  83.495865  126.000000  37.895603  28.530001  \n",
            "2018-04-06 00:00:00-04:00  80.950325  122.580002  37.713135  28.219999  \n",
            "2018-04-09 00:00:00-04:00  81.678940  123.290001  37.746307  26.540001  \n",
            "2018-04-10 00:00:00-04:00  83.671120  126.500000  37.348202  28.070000  \n",
            "2018-04-11 00:00:00-04:00  82.665802  126.629997  37.190605  27.709999  \n",
            "2018-04-12 00:00:00-04:00  83.468208  128.229996  36.510498  27.959999  \n",
            "2018-04-13 00:00:00-04:00  82.942497  124.709999  36.892025  27.480000  \n",
            "2018-04-16 00:00:00-04:00  83.486641  126.830002  37.555553  28.990000  \n",
            "2018-04-17 00:00:00-04:00  84.270615  132.570007  37.829262  28.750000  \n",
            "2018-04-18 00:00:00-04:00  84.574974  132.600006  37.588722  28.650000  \n",
            "2018-04-19 00:00:00-04:00  82.555130  131.970001  37.646782  28.030001  \n",
            "2018-04-20 00:00:00-04:00  82.601242  130.529999  37.406258  27.219999  \n",
            "2018-04-23 00:00:00-04:00  80.240150  129.830002  37.580437  26.860001  \n",
            "2018-04-24 00:00:00-04:00  79.714447  125.559998  37.887302  27.139999  \n",
            "2018-04-25 00:00:00-04:00  79.244057  122.580002  37.961967  28.110001  \n",
            "2018-04-26 00:00:00-04:00  81.079445  125.930000  38.550835  28.650000  \n",
            "2018-04-27 00:00:00-04:00  74.595657  124.239998  39.065063  28.709999  \n",
            "\n",
            "[20 rows x 80 columns]\n"
          ]
        }
      ]
    },
    {
      "cell_type": "code",
      "source": [
        "#나스닥 100 지수 종가 데이터\n",
        "import yfinance as yf\n",
        "import pandas as pd\n",
        "\n",
        "# 나스닥 100 지수 티커 심볼\n",
        "ticker = \"^NDX\"\n",
        "\n",
        "# 시작 날짜와 종료 날짜 설정\n",
        "start_date = \"2018-03-20\"\n",
        "end_date = \"2020-07-19\"\n",
        "\n",
        "# 나스닥 100 지수 데이터 가져오기\n",
        "try:\n",
        "    index_data = yf.Ticker(ticker)\n",
        "    index_data_df = index_data.history(start=start_date, end=end_date)\n",
        "    if index_data_df.empty:\n",
        "        raise ValueError(f\"No data for {ticker}\")\n",
        "except Exception as e:\n",
        "    print(f\"Error fetching data for {ticker}: {e}\")\n",
        "\n",
        "# 종가 데이터만 추출\n",
        "nasdaq_100_close_prices = index_data_df['Close']\n",
        "\n",
        "# 데이터프레임으로 변환\n",
        "nasdaq_100_close_prices_df = pd.DataFrame(nasdaq_100_close_prices)\n",
        "nasdaq_100_close_prices_df.index.name = \"Date\"\n",
        "\n",
        "# 데이터프레임 CSV 파일로 저장\n",
        "nasdaq_100_close_prices_df.to_csv('/content/drive/MyDrive/Colab Notebooks/deep.daiv/Finbert-lstm/FinBERT-LSTM/nasdaq_100_close_prices.csv')\n",
        "\n",
        "# 데이터프레임 출력\n",
        "print(nasdaq_100_close_prices_df)"
      ],
      "metadata": {
        "colab": {
          "base_uri": "https://localhost:8080/"
        },
        "id": "8ld41zySIsSn",
        "outputId": "82dbf9df-80da-40e6-9803-71721fd625c8"
      },
      "execution_count": null,
      "outputs": [
        {
          "output_type": "stream",
          "name": "stdout",
          "text": [
            "                                  Close\n",
            "Date                                   \n",
            "2018-03-20 00:00:00-04:00   6885.919922\n",
            "2018-03-21 00:00:00-04:00   6853.450195\n",
            "2018-03-22 00:00:00-04:00   6682.259766\n",
            "2018-03-23 00:00:00-04:00   6508.089844\n",
            "2018-03-26 00:00:00-04:00   6753.830078\n",
            "...                                 ...\n",
            "2020-07-13 00:00:00-04:00  10602.209961\n",
            "2020-07-14 00:00:00-04:00  10689.519531\n",
            "2020-07-15 00:00:00-04:00  10701.679688\n",
            "2020-07-16 00:00:00-04:00  10626.459961\n",
            "2020-07-17 00:00:00-04:00  10645.219727\n",
            "\n",
            "[587 rows x 1 columns]\n"
          ]
        }
      ]
    }
  ]
}
